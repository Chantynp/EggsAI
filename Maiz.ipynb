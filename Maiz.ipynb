{
  "nbformat": 4,
  "nbformat_minor": 0,
  "metadata": {
    "colab": {
      "provenance": [],
      "authorship_tag": "ABX9TyMeAZvm5DAd1DEFrptuA99E",
      "include_colab_link": true
    },
    "kernelspec": {
      "name": "python3",
      "display_name": "Python 3"
    },
    "language_info": {
      "name": "python"
    }
  },
  "cells": [
    {
      "cell_type": "markdown",
      "metadata": {
        "id": "view-in-github",
        "colab_type": "text"
      },
      "source": [
        "<a href=\"https://colab.research.google.com/github/Chantynp/EggsAI/blob/main/Maiz.ipynb\" target=\"_parent\"><img src=\"https://colab.research.google.com/assets/colab-badge.svg\" alt=\"Open In Colab\"/></a>"
      ]
    },
    {
      "cell_type": "code",
      "source": [
        "import pandas as pd\n",
        "import numpy as np\n",
        "import xgboost as xgb\n",
        "from sklearn.model_selection import train_test_split\n",
        "from sklearn.metrics import mean_squared_error, mean_absolute_error, r2_score\n",
        "\n",
        "datos = pd.read_csv('train.csv')\n",
        "datos['solar_alignment'] = datos['solar_alignment'].map({True: 1, False: 0})\n",
        "datos['sacrifice_type'] = np.where(\n",
        "    datos['ritual_intensity'] == 0,\n",
        "    'sin_sacrificio',\n",
        "    datos['sacrifice_type']\n",
        ")\n",
        "\n",
        "datos = pd.get_dummies(datos, columns=['region', 'sacrifice_type'])\n",
        "\n",
        "x_entrenamiento = datos.drop(columns=['id', 'corn_yield'])\n",
        "y_entrenamiento = datos['corn_yield']\n",
        "\n",
        "x_entrenamiento, x_validacion, y_entrenamiento, y_validacion = train_test_split(\n",
        "    x_entrenamiento,\n",
        "    y_entrenamiento,\n",
        "    test_size=0.2,\n",
        "    random_state=123,\n",
        "    shuffle=True\n",
        ")\n",
        "\n",
        "modelo = xgb.XGBRegressor(\n",
        "    objective='reg:squarederror',\n",
        "    tree_method='hist',\n",
        "    missing=np.nan,\n",
        "    n_estimators=1500,\n",
        "    learning_rate=0.05,\n",
        "    max_depth=6,\n",
        "    subsample=0.8,\n",
        "    colsample_bytree=0.8,\n",
        "    gamma=0.1,\n",
        "    reg_alpha=0.5,\n",
        "    reg_lambda=0.8,\n",
        "    random_state=42,\n",
        "    n_jobs=-1\n",
        ")\n",
        "\n",
        "modelo.fit(\n",
        "    x_entrenamiento,\n",
        "    y_entrenamiento,\n",
        ")\n",
        "\n",
        "predicciones = modelo.predict(x_validacion)\n",
        "rmse = np.sqrt(mean_squared_error(y_validacion, predicciones))\n",
        "mae = mean_absolute_error(y_validacion, predicciones)\n",
        "r2 = r2_score(y_validacion, predicciones)\n",
        "\n",
        "#Impresión del Rendimiento\n",
        "#print(f\"RMSE: {rmse:.2f} kg/ha\")\n",
        "#print(f\"MAE: {mae:.2f} kg/ha\")\n",
        "#print(f\"R²: {r2:.4f}\")\n",
        "\n",
        "modelo.save_model('modelo.json')\n",
        "\n",
        "#Prueba\n",
        "datos_prueba = pd.read_csv('test.csv')\n",
        "datos_prueba['solar_alignment'] = datos_prueba['solar_alignment'].map({True: 1, False: 0})\n",
        "datos_prueba['sacrifice_type'] = np.where(\n",
        "    datos_prueba['ritual_intensity'] == 0,\n",
        "    'sin_sacrificio',\n",
        "    datos_prueba['sacrifice_type']\n",
        ")\n",
        "datos_prueba = pd.get_dummies(datos_prueba, columns=['region', 'sacrifice_type'])\n",
        "\n",
        "x_prueba = datos_prueba[x_entrenamiento.columns]\n",
        "predicciones = modelo.predict(x_prueba)\n",
        "\n",
        "resultados = pd.DataFrame({\n",
        "    'id': datos_prueba['id'],\n",
        "    'corn_yield': predicciones\n",
        "})\n",
        "\n",
        "resultados.to_csv('predicciones.csv', index=False)"
      ],
      "metadata": {
        "id": "4vQr1ZuKCp3y"
      },
      "execution_count": null,
      "outputs": []
    }
  ]
}